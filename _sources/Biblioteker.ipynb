{
 "cells": [
  {
   "cell_type": "markdown",
   "id": "ad8231a5",
   "metadata": {},
   "source": [
    "# Biblioteker i Python\n",
    "\n",
    "```{image} img/matplotlib_logo.png\n",
    ":width: 52%\n",
    ":align: left\n",
    "```\n",
    "```{image} img/numpy_logo.png\n",
    ":width: 41%\n",
    ":align: right\n",
    "```\n",
    "\n",
    "Python har mange innebygde funksjoner og operasjoner. Innenfor det som vi skal jobbe med i fagene her, så trenger vi ofte en del andre biblioteker med flere funksjoner i tillegg. I matematikk får vi stor bruk for `numpy`og `matplotlib` og særlig den delen som handler om plotting `matplotlib.pyplot`. \n",
    "Senere, eller i andre fag, vil du gjerne også få bruk for `scipy`, `pandas`, `geopandas` eller `scipy`. \n",
    "\n",
    ":::{admonition} Advarsel\n",
    ":class: warning\n",
    "\n",
    "Lærebøkene har en tendens til å bruke ett stort bibliotek `pylab`. Dette er ikke en anbefalt metode. Hovedårsaken til dette er at det er satt sammen av flere ulike bibliotek, der det finnes flere funksjoner med samme navn. Du vil dermed ikke har kontroll på at det som regnes ut er helt riktig. Bruk derfor `numpy` og `matplotlib` som du vil lære her.\n",
    ":::\n",
    "\n",
    ":::{admonition} Eksempel på bruk av `numpy`\n",
    ":class: tip\n",
    "\n",
    "```python\n",
    "import numpy\n",
    "tall = float(input('Hvilket tall vil du ta kvadratroten av? \\n >> '))\n",
    "\n",
    "kvadratrot=numpy.sqrt(tall)\n",
    "print(f'Kvadratroten av {tall} er lik {kvadratrot})\n",
    "```\n",
    ":::\n",
    "\n",
    "Koden over importerer først biblioteket numpy. Så henter den inn en verdi fra brukeren ved input, som gjøres om til et flyttall. `numpy.sqrt()` betyr at man skal gå til biblioteket numpy (står før punktum) og hente kommandoen sqrt fra det biblioteket. Denne kommandoen tar kvadratroten av en verdi.\n",
    "\n",
    "\n",
    "### Forkortelser\n",
    "Noen av bibliotekene har lange navn, som gjør at det blir mye å skrive i koden. Det er derfor vanlig at man lager forkortelser. Noen av disse forkortelsene er mer faste, sånn at de brukes globalt, som gjør det lettere å dele kode med andre, og ikke minst finne hjelp på nettet.\n",
    "\n",
    "Standard forkortelser for en del av de bibliotekene som vi skal bruke er \n",
    "```python\n",
    "import numpy as np\n",
    "import matplotlib.pyplot as plt\n",
    "import pandas as pd\n",
    "```\n",
    ":::{admonition} Eksempel over med bruk av forkortelse\n",
    ":class: tip\n",
    "\n",
    "```python\n",
    "import numpy as np\n",
    "tall = float(input('Hvilket tall vil du ta kvadratroten av? \\n >> '))\n",
    "\n",
    "kvadratrot=np.sqrt(tall)\n",
    "print(f'Kvadratroten av {tall} er lik {kvadratrot})\n",
    "```\n",
    ":::\n",
    "\n",
    "### Trenger bare en kommando fra et bibliotek?\n",
    "Noen ganger trenger du bare én kommando fra et bibliotek. Da kan du bruke kommandoen ```from```.\n",
    "```python\n",
    "from numpy import sqrt\n",
    "```\n",
    "Hvis du gjør det, så trenger du ikke kalle opp biblioteket senere, men bruke funksjonen uten å kalle numpy:\n",
    "```python\n",
    "from numpy import sqrt\n",
    "tall = 7890\n",
    "roten = sqrt(tall)\n",
    "```\n",
    "\n",
    ":::{admonition} Advarsel\n",
    ":class: warning\n",
    "\n",
    "En del lærebøker bruker `from <...> import *`. Problemet er at ulike biblioteker kan inneholde samme funksjonsnavn, som ikke gjør det samme, eller de kan inneholde en del variabler som verdier. Dette vil da kunne skape problemer i din kode hvis du bruker de samme variabelnavnene uten å definere dem skikkelig. Vi anbefaler derfor ikke å bruke `import *`\n",
    ":::"
   ]
  }
 ],
 "metadata": {
  "jupytext": {
   "formats": "md:myst",
   "text_representation": {
    "extension": ".md",
    "format_name": "myst"
   }
  },
  "kernelspec": {
   "display_name": "Python 3",
   "language": "python",
   "name": "python3"
  },
  "language_info": {
   "codemirror_mode": {
    "name": "ipython",
    "version": 3
   },
   "file_extension": ".py",
   "mimetype": "text/x-python",
   "name": "python",
   "nbconvert_exporter": "python",
   "pygments_lexer": "ipython3",
   "version": "3.8.13"
  },
  "source_map": [
   11
  ]
 },
 "nbformat": 4,
 "nbformat_minor": 5
}