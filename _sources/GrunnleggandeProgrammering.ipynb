{
 "cells": [
  {
   "cell_type": "markdown",
   "id": "c0a5df34-ba62-4e29-8f44-0e482d722597",
   "metadata": {},
   "source": [
    "# Grunnleggande Python-programmering\n",
    "\n",
    "I dette kapittelet ser me på grunnleggande kommandoar og funksjonar i Python. "
   ]
  },
  {
   "cell_type": "markdown",
   "id": "562c804a-1f69-488a-9389-375e3fae002c",
   "metadata": {},
   "source": [
    "## Variablar\n",
    "\n",
    "..."
   ]
  },
  {
   "cell_type": "code",
   "execution_count": 6,
   "id": "7de5b8ed-b2b4-447d-86dc-ace01d91064c",
   "metadata": {},
   "outputs": [
    {
     "data": {
      "text/plain": [
       "4.0"
      ]
     },
     "execution_count": 6,
     "metadata": {},
     "output_type": "execute_result"
    }
   ],
   "source": [
    "a = 12\n",
    "b = 3\n",
    "\n",
    "a / b"
   ]
  },
  {
   "cell_type": "markdown",
   "id": "f574d6c6-e55c-4683-a4fd-2664ac6178e6",
   "metadata": {},
   "source": [
    "## Output og input\n",
    "\n",
    "Me kan be programmet vårt om å skriva ut tekst eller tal, dette kallar me for utskrift eller output. Me kan òg gje programmet vårt beskjedar eller data gjennom tastaturet, dette kallar me gjerne input. \n",
    "\n",
    "### Utskrift\n",
    "\n",
    "..."
   ]
  },
  {
   "cell_type": "code",
   "execution_count": 1,
   "id": "66645040-328c-4102-9e2c-66c8bd9f476a",
   "metadata": {},
   "outputs": [
    {
     "name": "stdout",
     "output_type": "stream",
     "text": [
      "Heisann\n"
     ]
    }
   ],
   "source": [
    "print(\"Heisann\")"
   ]
  },
  {
   "cell_type": "code",
   "execution_count": 2,
   "id": "ee41c95a-afba-4368-a1fc-4cd49b9e384d",
   "metadata": {},
   "outputs": [
    {
     "name": "stdout",
     "output_type": "stream",
     "text": [
      "Ein tekststreng\n"
     ]
    }
   ],
   "source": [
    "a = \"Ein tekststreng\"\n",
    "\n",
    "print(a)"
   ]
  },
  {
   "cell_type": "markdown",
   "id": "0d070489-5f34-41a0-a5ad-0c5e2e9a27da",
   "metadata": {},
   "source": [
    "### Input\n",
    "\n",
    ".."
   ]
  },
  {
   "cell_type": "code",
   "execution_count": 3,
   "id": "9358e187-9f43-4e3d-a9af-50df7eb5d77c",
   "metadata": {},
   "outputs": [
    {
     "name": "stdin",
     "output_type": "stream",
     "text": [
      "Skriv inn namnet ditt:  Torodd\n"
     ]
    },
    {
     "name": "stdout",
     "output_type": "stream",
     "text": [
      "Hei Torodd\n"
     ]
    }
   ],
   "source": [
    "namn = input(\"Skriv inn namnet ditt: \")\n",
    "\n",
    "print(\"Hei\", namn)"
   ]
  },
  {
   "cell_type": "code",
   "execution_count": 4,
   "id": "1d5e16b9-732e-48db-839e-2327ec2e7c99",
   "metadata": {},
   "outputs": [
    {
     "name": "stdin",
     "output_type": "stream",
     "text": [
      "Kor lang tid bruker du til skule/jobb 12\n"
     ]
    },
    {
     "name": "stdout",
     "output_type": "stream",
     "text": [
      "12Torodd\n"
     ]
    }
   ],
   "source": [
    "tid = input(\"Kor lang tid bruker du til skule/jobb (i minutt)\")"
   ]
  },
  {
   "cell_type": "markdown",
   "id": "92e9820c-1fa0-4a21-b275-7ee25ef49cd0",
   "metadata": {},
   "source": [
    ":::{admonition} Oppgåve\n",
    ":class: note\n",
    "\n",
    "Prøv å laga eit program som\n",
    "- Spør etter namn på brukar\n",
    "- Spør etter alder på brukar\n",
    "- Skriv ut ei helsing til brukar\n",
    ":::"
   ]
  },
  {
   "cell_type": "code",
   "execution_count": null,
   "id": "e54b81cc-0f56-4b0f-a501-10341c5c2114",
   "metadata": {},
   "outputs": [],
   "source": []
  }
 ],
 "metadata": {
  "kernelspec": {
   "display_name": "Python 3 (ipykernel)",
   "language": "python",
   "name": "python3"
  },
  "language_info": {
   "codemirror_mode": {
    "name": "ipython",
    "version": 3
   },
   "file_extension": ".py",
   "mimetype": "text/x-python",
   "name": "python",
   "nbconvert_exporter": "python",
   "pygments_lexer": "ipython3",
   "version": "3.8.12"
  }
 },
 "nbformat": 4,
 "nbformat_minor": 5
}
